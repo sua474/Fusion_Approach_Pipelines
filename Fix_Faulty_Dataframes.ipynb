{
 "cells": [
  {
   "cell_type": "code",
   "execution_count": 61,
   "id": "3822564e-8d0e-44bb-961e-6033c20cf240",
   "metadata": {},
   "outputs": [],
   "source": [
    "import pandas as pd\n",
    "import numpy as np\n",
    "import os\n",
    "from os import path\n",
    "import math"
   ]
  },
  {
   "cell_type": "code",
   "execution_count": 66,
   "id": "fafcdd24-a40c-4a79-82fb-8462d5fc35c0",
   "metadata": {},
   "outputs": [],
   "source": [
    "total_frames = 150\n",
    "desired_frames = 100\n",
    "path = \"/u1/cec383/Fusion_Approach_Pipelines/Chiquet_100_Extra/\"\n",
    "\n",
    "def get_file_path_from_index(index):\n",
    "    return path + \"Chiquet_\" + str(index) + \".csv\"\n",
    "\n",
    "def get_file_paths(n):\n",
    "    filepaths = []\n",
    "    for index in range(1, n+1):\n",
    "        filepaths.append(get_file_path_from_index(index))\n",
    "    return filepaths\n",
    "\n",
    "def create_pandaframes(file_paths):\n",
    "    def discretize_to_0_or_1(row):\n",
    "        for index in range(len(row)):\n",
    "            if row[index] != 0:\n",
    "                row[index] = 1\n",
    "        return row\n",
    "    frames = []\n",
    "    for index in range(0, len(file_paths)):\n",
    "        frames.append(np.ceil(pd.read_csv(file_paths[index])).astype(int).apply(discretize_to_0_or_1))\n",
    "    return frames\n",
    "\n",
    "def check_for_invalid_generation(frames_to_check, extra_frames):\n",
    "    def check_if_invalid_frame(frame):\n",
    "        for column in frame.columns:\n",
    "            if not (frame[column].isin([1]).any()):\n",
    "                return True\n",
    "        return False\n",
    "    \n",
    "    def find_next_valid_frame():\n",
    "        not_found_replacement = True\n",
    "        replacement = extra_frames.pop()\n",
    "        while(not_found_replacement):\n",
    "            if not check_if_invalid_frame(replacement):\n",
    "                break\n",
    "            replacement = extra_frames.pop()\n",
    "        return replacement\n",
    "    for index in range(desired_frames):\n",
    "        if check_if_invalid_frame(frames[index]):\n",
    "            print(index)\n",
    "            replacement = find_next_valid_frame()\n",
    "            print(replacement)\n",
    "            replacement.to_csv(get_file_path_from_index(index+1))"
   ]
  },
  {
   "cell_type": "code",
   "execution_count": 67,
   "id": "74ca9012-af89-45d5-a887-469eafc10790",
   "metadata": {},
   "outputs": [],
   "source": [
    "frames = create_pandaframes(get_file_paths(total_frames))\n",
    "check_for_invalid_generation(frames[:desired_frames], frames[desired_frames:])"
   ]
  },
  {
   "cell_type": "code",
   "execution_count": null,
   "id": "06c872d2-dc4c-44e6-87a3-d444a1ccc802",
   "metadata": {},
   "outputs": [],
   "source": []
  }
 ],
 "metadata": {
  "kernelspec": {
   "display_name": "algorithmcomparisonenv",
   "language": "python",
   "name": "algorithmcomparisonenv"
  },
  "language_info": {
   "codemirror_mode": {
    "name": "ipython",
    "version": 3
   },
   "file_extension": ".py",
   "mimetype": "text/x-python",
   "name": "python",
   "nbconvert_exporter": "python",
   "pygments_lexer": "ipython3",
   "version": "3.9.4"
  }
 },
 "nbformat": 4,
 "nbformat_minor": 5
}
